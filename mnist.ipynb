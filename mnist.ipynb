{
 "cells": [
  {
   "cell_type": "code",
   "execution_count": 37,
   "metadata": {},
   "outputs": [
    {
     "name": "stderr",
     "output_type": "stream",
     "text": [
      "┌ Info: Train data\n",
      "│   typeof(x_train_) = Array{Float32, 4}\n",
      "│   size(x_train_) = (28, 28, 1, 60000)\n",
      "│   typeof(y_train_) = Matrix{Float32}\n",
      "│   size(y_train_) = (10, 60000)\n",
      "└ @ Main /Users/zhenchen/Julia_MNIST_VAE/data.jl:13\n",
      "┌ Info: Test data\n",
      "│   typeof(x_test_) = Array{Float32, 4}\n",
      "│   size(x_test_) = (28, 28, 1, 10000)\n",
      "│   typeof(y_test_) = Matrix{Float32}\n",
      "│   size(y_test_) = (10, 10000)\n",
      "└ @ Main /Users/zhenchen/Julia_MNIST_VAE/data.jl:24\n"
     ]
    },
    {
     "name": "stderr",
     "output_type": "stream",
     "text": [
      "┌ Info: Encoder\n",
      "│   encoder = Chain(flatten, Dense(784 => 512, relu), Split{Tuple{Chain{Tuple{Dense{typeof(relu), Matrix{Float32}, Vector{Float32}}}}, Chain{Tuple{Dense{typeof(relu), Matrix{Float32}, Vector{Float32}}}}}}((Chain(Dense(512 => 2, relu)), Chain(Dense(512 => 2, relu)))))\n",
      "└ @ Main /Users/zhenchen/Julia_MNIST_VAE/mnist_vae.jl:85\n",
      "┌ Info: Decoder\n",
      "│   decoder = Chain(Dense(2 => 512, relu), Dense(512 => 784, relu), #143, σ)\n",
      "└ @ Main /Users/zhenchen/Julia_MNIST_VAE/mnist_vae.jl:127\n"
     ]
    },
    {
     "name": "stderr",
     "output_type": "stream",
     "text": [
      "┌ Info: Model\n",
      "│   model_ = #144\n",
      "└ @ Main /Users/zhenchen/Julia_MNIST_VAE/mnist_vae.jl:170\n"
     ]
    }
   ],
   "source": [
    "include(\"./mnist_vae.jl\")"
   ]
  },
  {
   "cell_type": "code",
   "execution_count": 43,
   "metadata": {},
   "outputs": [
    {
     "data": {
      "text/plain": [
       "Params([Float32[0.042948864 -0.091562174; 0.08293465 -0.066188574; … ; 0.013065867 0.011326805; -0.035218727 -0.016610593], Float32[0.0, 0.0, 0.0, 0.0, 0.0, 0.0, 0.0, 0.0, 0.0, 0.0  …  0.0, 0.0, 0.0, 0.0, 0.0, 0.0, 0.0, 0.0, 0.0, 0.0], Float32[0.05343706 0.007717303 … 0.060366202 0.053710278; -0.03859424 0.0013684914 … -0.03233907 0.036203876; … ; -0.030701132 0.008825004 … -0.030586604 -0.06739684; 0.03802244 -0.06399952 … 0.03507739 -0.035538405], Float32[0.0, 0.0, 0.0, 0.0, 0.0, 0.0, 0.0, 0.0, 0.0, 0.0  …  0.0, 0.0, 0.0, 0.0, 0.0, 0.0, 0.0, 0.0, 0.0, 0.0]])"
      ]
     },
     "metadata": {},
     "output_type": "display_data"
    }
   ],
   "source": [
    "Flux.params(decoder_)"
   ]
  },
  {
   "cell_type": "code",
   "execution_count": null,
   "metadata": {},
   "outputs": [],
   "source": []
  }
 ],
 "metadata": {
  "kernelspec": {
   "display_name": "Julia 1.8.1",
   "language": "julia",
   "name": "julia-1.8"
  },
  "language_info": {
   "file_extension": ".jl",
   "mimetype": "application/julia",
   "name": "julia",
   "version": "1.8.1"
  },
  "orig_nbformat": 4
 },
 "nbformat": 4,
 "nbformat_minor": 2
}
