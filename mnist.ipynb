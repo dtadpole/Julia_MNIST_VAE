{
 "cells": [
  {
   "cell_type": "code",
   "execution_count": 1,
   "metadata": {},
   "outputs": [],
   "source": [
    "using MLDatasets\n",
    "using Flux\n",
    "using Random\n",
    "using OneHotArrays\n",
    "using StatsBase"
   ]
  },
  {
   "cell_type": "code",
   "execution_count": 2,
   "metadata": {},
   "outputs": [
    {
     "name": "stderr",
     "output_type": "stream",
     "text": [
      "┌ Info: data\n",
      "│   typeof(trainset[1]) = Base.ReinterpretArray{FixedPointNumbers.N0f8, 3, UInt8, Array{UInt8, 3}, false}\n",
      "│   size(trainset[1]) = (28, 28, 60000)\n",
      "│   typeof(trainset[2]) = Vector{Int64}\n",
      "│   size(trainset[2]) = (60000,)\n",
      "└ @ Main /Users/zhenchen/Julia_MNIST_VAE/mnist.ipynb:2\n"
     ]
    }
   ],
   "source": [
    "trainset = MNIST.traindata()\n",
    "@info \"data\" typeof(trainset[1]) size(trainset[1]) typeof(trainset[2]) size(trainset[2])"
   ]
  },
  {
   "cell_type": "code",
   "execution_count": 3,
   "metadata": {},
   "outputs": [
    {
     "data": {
      "text/plain": [
       "10×60000 Matrix{Float32}:\n",
       " 0.0  1.0  0.0  0.0  0.0  0.0  0.0  0.0  …  0.0  0.0  0.0  0.0  0.0  0.0  0.0\n",
       " 0.0  0.0  0.0  1.0  0.0  0.0  1.0  0.0     0.0  1.0  0.0  0.0  0.0  0.0  0.0\n",
       " 0.0  0.0  0.0  0.0  0.0  1.0  0.0  0.0     0.0  0.0  0.0  0.0  0.0  0.0  0.0\n",
       " 0.0  0.0  0.0  0.0  0.0  0.0  0.0  1.0     0.0  0.0  0.0  1.0  0.0  0.0  0.0\n",
       " 0.0  0.0  1.0  0.0  0.0  0.0  0.0  0.0     0.0  0.0  0.0  0.0  0.0  0.0  0.0\n",
       " 1.0  0.0  0.0  0.0  0.0  0.0  0.0  0.0  …  1.0  0.0  0.0  0.0  1.0  0.0  0.0\n",
       " 0.0  0.0  0.0  0.0  0.0  0.0  0.0  0.0     0.0  0.0  0.0  0.0  0.0  1.0  0.0\n",
       " 0.0  0.0  0.0  0.0  0.0  0.0  0.0  0.0     0.0  0.0  0.0  0.0  0.0  0.0  0.0\n",
       " 0.0  0.0  0.0  0.0  0.0  0.0  0.0  0.0     0.0  0.0  1.0  0.0  0.0  0.0  1.0\n",
       " 0.0  0.0  0.0  0.0  1.0  0.0  0.0  0.0     0.0  0.0  0.0  0.0  0.0  0.0  0.0"
      ]
     },
     "metadata": {},
     "output_type": "display_data"
    }
   ],
   "source": [
    "x_train, y_train =trainset[:]\n",
    "len_train = length(y_train)\n",
    "x_train_ = reshape(x_train, 28^2, :)\n",
    "y_train_ = convert(Array{Float32}, onehotbatch(y_train, 0:9))"
   ]
  },
  {
   "cell_type": "code",
   "execution_count": 4,
   "metadata": {},
   "outputs": [
    {
     "data": {
      "text/plain": [
       "Chain(\n",
       "  Dense(784 => 64, relu),               \u001b[90m# 50_240 parameters\u001b[39m\n",
       "  Dense(64 => 10, elu),                 \u001b[90m# 650 parameters\u001b[39m\n",
       "  NNlib.softmax,\n",
       ") \u001b[90m                  # Total: 4 arrays, \u001b[39m50_890 parameters, 199.039 KiB."
      ]
     },
     "metadata": {},
     "output_type": "display_data"
    }
   ],
   "source": [
    "model = Chain(\n",
    "  Dense(28^2, 64, relu),\n",
    "  Dense(64, 10, elu), \n",
    "  softmax\n",
    ")"
   ]
  },
  {
   "cell_type": "code",
   "execution_count": 5,
   "metadata": {},
   "outputs": [
    {
     "data": {
      "text/plain": [
       "2.398534f0"
      ]
     },
     "metadata": {},
     "output_type": "display_data"
    }
   ],
   "source": [
    "lossF = (x, y) -> begin\n",
    "    y_ = model(x)\n",
    "    return mean(-sum(y .* log.(y_), dims=1))\n",
    "end\n",
    "lossF(x_train_[:, 1:100], y_train_[:, 1:100])"
   ]
  },
  {
   "cell_type": "code",
   "execution_count": 11,
   "metadata": {},
   "outputs": [
    {
     "data": {
      "text/plain": [
       "0.9770166666666666"
      ]
     },
     "metadata": {},
     "output_type": "display_data"
    }
   ],
   "source": [
    "accuracy = (x_, y_) -> sum(argmax(model(x_), dims=1) .== argmax(y_, dims=1)) / size(y_, 2)\n",
    "accuracy(x_train_, y_train_)"
   ]
  },
  {
   "cell_type": "code",
   "execution_count": 10,
   "metadata": {},
   "outputs": [
    {
     "data": {
      "text/plain": [
       "1×60000 BitMatrix:\n",
       " 1  1  1  1  1  1  1  1  1  1  1  1  1  …  1  1  1  1  1  1  1  1  1  1  1  1"
      ]
     },
     "metadata": {},
     "output_type": "display_data"
    }
   ],
   "source": [
    "argmax(model(x_train_), dims=1) .== argmax(y_train_, dims=1)"
   ]
  },
  {
   "cell_type": "code",
   "execution_count": 6,
   "metadata": {},
   "outputs": [
    {
     "data": {
      "text/plain": [
       "Grads(...)"
      ]
     },
     "metadata": {},
     "output_type": "display_data"
    }
   ],
   "source": [
    "opt = ADAM(0.01)\n",
    "params = Flux.params(model)\n",
    "grads = gradient(() -> lossF(x_train_[:, 1:100], y_train_[:, 1:100]), params)"
   ]
  },
  {
   "cell_type": "code",
   "execution_count": 9,
   "metadata": {},
   "outputs": [
    {
     "name": "stderr",
     "output_type": "stream",
     "text": [
      "┌ Info: epoch\n",
      "│   epoch = 1\n",
      "│   accuracy(x_train_, y_train_) = 0.9514666666666667\n",
      "└ @ Main /Users/zhenchen/Julia_MNIST_VAE/mnist.ipynb:9\n",
      "┌ Info: epoch\n",
      "│   epoch = 2\n",
      "│   accuracy(x_train_, y_train_) = 0.9566166666666667\n",
      "└ @ Main /Users/zhenchen/Julia_MNIST_VAE/mnist.ipynb:9\n"
     ]
    },
    {
     "name": "stderr",
     "output_type": "stream",
     "text": [
      "┌ Info: epoch\n",
      "│   epoch = 3\n",
      "│   accuracy(x_train_, y_train_) = 0.9487833333333333\n",
      "└ @ Main /Users/zhenchen/Julia_MNIST_VAE/mnist.ipynb:9\n",
      "┌ Info: epoch\n",
      "│   epoch = 4\n",
      "│   accuracy(x_train_, y_train_) = 0.9670166666666666\n",
      "└ @ Main /Users/zhenchen/Julia_MNIST_VAE/mnist.ipynb:9\n"
     ]
    },
    {
     "name": "stderr",
     "output_type": "stream",
     "text": [
      "┌ Info: epoch\n",
      "│   epoch = 5\n",
      "│   accuracy(x_train_, y_train_) = 0.9654666666666667\n",
      "└ @ Main /Users/zhenchen/Julia_MNIST_VAE/mnist.ipynb:9\n",
      "┌ Info: epoch\n",
      "│   epoch = 6\n",
      "│   accuracy(x_train_, y_train_) = 0.9729166666666667\n",
      "└ @ Main /Users/zhenchen/Julia_MNIST_VAE/mnist.ipynb:9\n"
     ]
    },
    {
     "name": "stderr",
     "output_type": "stream",
     "text": [
      "┌ Info: epoch\n",
      "│   epoch = 7\n",
      "│   accuracy(x_train_, y_train_) = 0.97915\n",
      "└ @ Main /Users/zhenchen/Julia_MNIST_VAE/mnist.ipynb:9\n",
      "┌ Info: epoch\n",
      "│   epoch = 8\n",
      "│   accuracy(x_train_, y_train_) = 0.9797666666666667\n",
      "└ @ Main /Users/zhenchen/Julia_MNIST_VAE/mnist.ipynb:9\n"
     ]
    },
    {
     "name": "stderr",
     "output_type": "stream",
     "text": [
      "┌ Info: epoch\n",
      "│   epoch = 9\n",
      "│   accuracy(x_train_, y_train_) = 0.9768333333333333\n",
      "└ @ Main /Users/zhenchen/Julia_MNIST_VAE/mnist.ipynb:9\n",
      "┌ Info: epoch\n",
      "│   epoch = 10\n",
      "│   accuracy(x_train_, y_train_) = 0.9770166666666666\n",
      "└ @ Main /Users/zhenchen/Julia_MNIST_VAE/mnist.ipynb:9\n"
     ]
    }
   ],
   "source": [
    "BATCH_SIZE = 100\n",
    "for epoch in 1:10\n",
    "    for i in 1:BATCH_SIZE:len_train\n",
    "        x = x_train_[:, i:i+BATCH_SIZE-1]\n",
    "        y = y_train_[:, i:i+BATCH_SIZE-1]\n",
    "        grads = gradient(() -> lossF(x, y), params)\n",
    "        Flux.update!(opt, params, grads)\n",
    "    end\n",
    "    @info \"epoch\" epoch accuracy(x_train_, y_train_)\n",
    "end\n"
   ]
  },
  {
   "cell_type": "code",
   "execution_count": 13,
   "metadata": {},
   "outputs": [
    {
     "name": "stderr",
     "output_type": "stream",
     "text": [
      "┌ Info: data\n",
      "│   size(testset[1]) = (28, 28, 10000)\n",
      "│   size(testset[2]) = (10000,)\n",
      "└ @ Main /Users/zhenchen/Julia_MNIST_VAE/mnist.ipynb:2\n"
     ]
    }
   ],
   "source": [
    "testset = MNIST.testdata()\n",
    "@info \"data\" size(testset[1]) size(testset[2])"
   ]
  },
  {
   "cell_type": "code",
   "execution_count": 14,
   "metadata": {},
   "outputs": [
    {
     "data": {
      "text/plain": [
       "10×60000 Matrix{Float32}:\n",
       " 0.0  1.0  0.0  0.0  0.0  0.0  0.0  0.0  …  0.0  0.0  0.0  0.0  0.0  0.0  0.0\n",
       " 0.0  0.0  0.0  1.0  0.0  0.0  1.0  0.0     0.0  1.0  0.0  0.0  0.0  0.0  0.0\n",
       " 0.0  0.0  0.0  0.0  0.0  1.0  0.0  0.0     0.0  0.0  0.0  0.0  0.0  0.0  0.0\n",
       " 0.0  0.0  0.0  0.0  0.0  0.0  0.0  1.0     0.0  0.0  0.0  1.0  0.0  0.0  0.0\n",
       " 0.0  0.0  1.0  0.0  0.0  0.0  0.0  0.0     0.0  0.0  0.0  0.0  0.0  0.0  0.0\n",
       " 1.0  0.0  0.0  0.0  0.0  0.0  0.0  0.0  …  1.0  0.0  0.0  0.0  1.0  0.0  0.0\n",
       " 0.0  0.0  0.0  0.0  0.0  0.0  0.0  0.0     0.0  0.0  0.0  0.0  0.0  1.0  0.0\n",
       " 0.0  0.0  0.0  0.0  0.0  0.0  0.0  0.0     0.0  0.0  0.0  0.0  0.0  0.0  0.0\n",
       " 0.0  0.0  0.0  0.0  0.0  0.0  0.0  0.0     0.0  0.0  1.0  0.0  0.0  0.0  1.0\n",
       " 0.0  0.0  0.0  0.0  1.0  0.0  0.0  0.0     0.0  0.0  0.0  0.0  0.0  0.0  0.0"
      ]
     },
     "metadata": {},
     "output_type": "display_data"
    }
   ],
   "source": [
    "x_test, y_test =trainset[:]\n",
    "x_test_ = reshape(x_test, 28^2, :)\n",
    "y_test_ = convert(Array{Float32}, onehotbatch(y_test, 0:9))"
   ]
  },
  {
   "cell_type": "code",
   "execution_count": 15,
   "metadata": {},
   "outputs": [
    {
     "data": {
      "text/plain": [
       "0.08228423f0"
      ]
     },
     "metadata": {},
     "output_type": "display_data"
    }
   ],
   "source": [
    "lossF(x_test_, y_test_)"
   ]
  },
  {
   "cell_type": "code",
   "execution_count": 16,
   "metadata": {},
   "outputs": [
    {
     "data": {
      "text/plain": [
       "0.9770166666666666"
      ]
     },
     "metadata": {},
     "output_type": "display_data"
    }
   ],
   "source": [
    "accuracy(x_test_, y_test_)"
   ]
  },
  {
   "cell_type": "code",
   "execution_count": null,
   "metadata": {},
   "outputs": [],
   "source": []
  }
 ],
 "metadata": {
  "kernelspec": {
   "display_name": "Julia 1.8.1",
   "language": "julia",
   "name": "julia-1.8"
  },
  "language_info": {
   "file_extension": ".jl",
   "mimetype": "application/julia",
   "name": "julia",
   "version": "1.8.1"
  },
  "orig_nbformat": 4
 },
 "nbformat": 4,
 "nbformat_minor": 2
}
