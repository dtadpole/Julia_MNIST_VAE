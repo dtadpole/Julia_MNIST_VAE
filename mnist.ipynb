{
 "cells": [
  {
   "cell_type": "code",
   "execution_count": 23,
   "metadata": {},
   "outputs": [
    {
     "name": "stderr",
     "output_type": "stream",
     "text": [
      "┌ Info: Train data\n",
      "│   typeof(x_train_) = Array{Float32, 4}\n",
      "│   size(x_train_) = (28, 28, 1, 60000)\n",
      "│   typeof(y_train_) = Matrix{Float32}\n",
      "│   size(y_train_) = (10, 60000)\n",
      "└ @ Main /Users/zhenchen/Julia_MNIST_VAE/mnist_cnn.jl:18\n",
      "┌ Info: Test data\n",
      "│   typeof(x_test_) = Array{Float32, 4}\n",
      "│   size(x_test_) = (28, 28, 1, 10000)\n",
      "│   typeof(y_test_) = Matrix{Float32}\n",
      "│   size(y_test_) = (10, 10000)\n",
      "└ @ Main /Users/zhenchen/Julia_MNIST_VAE/mnist_cnn.jl:29\n"
     ]
    }
   ],
   "source": [
    "include(\"./mnist_cnn.jl\")"
   ]
  },
  {
   "cell_type": "code",
   "execution_count": 24,
   "metadata": {},
   "outputs": [
    {
     "data": {
      "text/plain": [
       "Chain(\n",
       "  Conv((3, 3), 1 => 32, relu, pad=1),   \u001b[90m# 320 parameters\u001b[39m\n",
       "  MaxPool((2, 2)),\n",
       "  Conv((3, 3), 32 => 32, relu, pad=1),  \u001b[90m# 9_248 parameters\u001b[39m\n",
       "  MaxPool((2, 2)),\n",
       "  Conv((3, 3), 32 => 32, relu, pad=1),  \u001b[90m# 9_248 parameters\u001b[39m\n",
       "  var\"#55#58\"(),\n",
       "  Dropout(0.5),\n",
       "  Dense(1568 => 128, elu),              \u001b[90m# 200_832 parameters\u001b[39m\n",
       "  Dropout(0.5),\n",
       "  Dense(128 => 10, elu),                \u001b[90m# 1_290 parameters\u001b[39m\n",
       "  NNlib.softmax,\n",
       ") \u001b[90m                  # Total: 10 arrays, \u001b[39m220_938 parameters, 864.516 KiB."
      ]
     },
     "metadata": {},
     "output_type": "display_data"
    }
   ],
   "source": [
    "model_ = modelF()"
   ]
  },
  {
   "cell_type": "code",
   "execution_count": null,
   "metadata": {},
   "outputs": [],
   "source": []
  }
 ],
 "metadata": {
  "kernelspec": {
   "display_name": "Julia 1.8.1",
   "language": "julia",
   "name": "julia-1.8"
  },
  "language_info": {
   "file_extension": ".jl",
   "mimetype": "application/julia",
   "name": "julia",
   "version": "1.8.1"
  },
  "orig_nbformat": 4
 },
 "nbformat": 4,
 "nbformat_minor": 2
}
