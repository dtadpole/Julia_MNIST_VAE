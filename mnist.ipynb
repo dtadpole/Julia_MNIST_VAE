{
 "cells": [
  {
   "cell_type": "code",
   "execution_count": 1,
   "metadata": {},
   "outputs": [
    {
     "name": "stderr",
     "output_type": "stream",
     "text": [
      "┌ Info: Train data\n",
      "│   typeof(x_train_) = Array{Float32, 4}\n",
      "│   size(x_train_) = (32, 32, 1, 60000)\n",
      "│   typeof(y_train_) = Matrix{Float32}\n",
      "│   size(y_train_) = (10, 60000)\n",
      "└ @ Main /Users/zhenchen/Julia_MNIST_VAE/data.jl:16\n",
      "┌ Info: Test data\n",
      "│   typeof(x_test_) = Array{Float32, 4}\n",
      "│   size(x_test_) = (32, 32, 1, 10000)\n",
      "│   typeof(y_test_) = Matrix{Float32}\n",
      "│   size(y_test_) = (10, 10000)\n",
      "└ @ Main /Users/zhenchen/Julia_MNIST_VAE/data.jl:28\n"
     ]
    },
    {
     "name": "stderr",
     "output_type": "stream",
     "text": [
      "┌ Info: Encoder\n",
      "│   encoder = Chain(flatten, Dense(1024 => 256, relu), Dense(256 => 256, relu), Split{Tuple{Chain{Tuple{Dense{typeof(relu), Matrix{Float32}, Vector{Float32}}, Dense{typeof(identity), Matrix{Float32}, Vector{Float32}}}}, Chain{Tuple{Dense{typeof(relu), Matrix{Float32}, Vector{Float32}}, Dense{typeof(identity), Matrix{Float32}, Vector{Float32}}}}}}((Chain(Dense(256 => 256, relu), Dense(256 => 3)), Chain(Dense(256 => 256, relu), Dense(256 => 3)))))\n",
      "└ @ Main /Users/zhenchen/Julia_MNIST_VAE/mnist_vae.jl:83\n",
      "┌ Info: Decoder\n",
      "│   decoder = Chain(Dense(3 => 256, relu), Dense(256 => 256, relu), Dense(256 => 256, relu), Dense(256 => 1024, σ), Reshape((32, 32, 1, Colon())))\n",
      "└ @ Main /Users/zhenchen/Julia_MNIST_VAE/mnist_vae.jl:125\n"
     ]
    }
   ],
   "source": [
    "include(\"./mnist_vae.jl\")"
   ]
  },
  {
   "cell_type": "code",
   "execution_count": null,
   "metadata": {},
   "outputs": [],
   "source": []
  }
 ],
 "metadata": {
  "kernelspec": {
   "display_name": "Julia 1.8.1",
   "language": "julia",
   "name": "julia-1.8"
  },
  "language_info": {
   "file_extension": ".jl",
   "mimetype": "application/julia",
   "name": "julia",
   "version": "1.8.1"
  },
  "orig_nbformat": 4
 },
 "nbformat": 4,
 "nbformat_minor": 2
}
